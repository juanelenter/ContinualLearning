{
 "cells": [
  {
   "cell_type": "code",
   "execution_count": 1,
   "metadata": {},
   "outputs": [
    {
     "name": "stdout",
     "output_type": "stream",
     "text": [
      "Warning: GEM and A-GEM cannot be used on Windows (quadprog required)\n"
     ]
    }
   ],
   "source": [
    "import numpy  # needed (don't change it)\n",
    "import importlib\n",
    "import os\n",
    "import socket\n",
    "import sys\n",
    "\n",
    "import datetime\n",
    "import uuid\n",
    "import argparse\n",
    "from argparse import ArgumentParser\n",
    "import matplotlib.pyplot as plt\n",
    "\n",
    "import setproctitle\n",
    "import torch\n",
    "from datasets import NAMES as DATASET_NAMES\n",
    "from datasets import ContinualDataset, get_dataset\n",
    "from models import get_all_models, get_model\n",
    "\n",
    "from utils.args import add_management_args\n",
    "from utils.best_args import best_args\n",
    "from utils.conf import set_random_seed\n",
    "from utils.continual_training import train as ctrain\n",
    "from utils.distributed import make_dp\n",
    "from utils.training import train, mask_classes, evaluate"
   ]
  },
  {
   "cell_type": "code",
   "execution_count": 2,
   "metadata": {},
   "outputs": [],
   "source": [
    "args_dict = {\n",
    "        'dataset': 'seq-mnist',\n",
    "        'model': 'cally',\n",
    "        \n",
    "        'buffer_size': 1000,\n",
    "        'minibatch_size': 32,\n",
    "\n",
    "        'lr': 0.01,\n",
    "        'optim_wd': 0,\n",
    "        'optim_mom': 0,\n",
    "        'optim_nesterov': 0,\n",
    "        'batch_size': 32,\n",
    "        'n_epochs': 20,\n",
    "\n",
    "        'distributed': 'no',\n",
    "        'seed': 0,\n",
    "        'validation': 0,\n",
    "        'nowand': 1,\n",
    "        'debug_mode': 0,\n",
    "        'ignore_other_metrics': 0,\n",
    "        'disable_log': 1,\n",
    "        'non_verbose': 1,\n",
    "        }\n",
    "\n",
    "class C:\n",
    "    pass\n",
    "c = C()\n",
    "\n",
    "args_list = []\n",
    "parser = argparse.ArgumentParser()\n",
    "for key in args_dict.keys():\n",
    "    args_list.append('--' + key)\n",
    "    \n",
    "    if type(args_dict[key]) is str:\n",
    "        parser.add_argument('--' + key, type=str)\n",
    "        args_list.append(args_dict[key])\n",
    "    elif type(args_dict[key]) is float:\n",
    "        parser.add_argument('--' + key, type=float)\n",
    "        args_list.append(str(args_dict[key]))\n",
    "    elif type(args_dict[key]) is int:\n",
    "        parser.add_argument('--' + key, type=int)\n",
    "        args_list.append(str(args_dict[key]))\n",
    "\n",
    "parser.parse_args(args=args_list, namespace=c)\n",
    "args = c\n"
   ]
  },
  {
   "cell_type": "markdown",
   "metadata": {},
   "source": [
    "### Setup"
   ]
  },
  {
   "cell_type": "code",
   "execution_count": 3,
   "metadata": {},
   "outputs": [],
   "source": [
    "# Instance of Continual Dataset with 2 classes per task and 5 tasks\n",
    "dataset = get_dataset(args)\n",
    "# MLP with dimensions 784 -> 100,  100 -> 100, 100 -> 10\n",
    "backbone = dataset.get_backbone()\n",
    "# Loss is cross entropy\n",
    "loss = dataset.get_loss()\n",
    "# for MNIST transform = None\n",
    "model = get_model(args, backbone, loss, dataset.get_transform())"
   ]
  },
  {
   "cell_type": "markdown",
   "metadata": {},
   "source": [
    "### Experiment 1: Save all samples with positive associated dual variable."
   ]
  },
  {
   "cell_type": "code",
   "execution_count": 4,
   "metadata": {},
   "outputs": [
    {
     "name": "stdout",
     "output_type": "stream",
     "text": [
      "Random results class: [0.04728132387706856, 10.822722820763957, 0.05336179295624333, 39.97985901309164, 0.2521432173474533] \n",
      "Random results task: [47.94326241134752, 50.53868756121449, 46.47812166488794, 52.215508559919435, 60.66565809379728]\n"
     ]
    }
   ],
   "source": [
    "# Compute initial Metrics for Knowledge Transfer Metrics\n",
    "model.net.to(model.device)\n",
    "\n",
    "dataset_copy = get_dataset(args)\n",
    "for t in range(dataset.N_TASKS):\n",
    "    model.net.train()\n",
    "    _, _ = dataset_copy.get_data_loaders()\n",
    "random_results_class, random_results_task = evaluate(model, dataset_copy)\n",
    "\n",
    "# Results class: accuracy without masking\n",
    "# Results task: accuracy when masking predictions (logits that are not the ones in current task go to -inf)\n",
    "print(f\"Random results class: {random_results_class} \\nRandom results task: {random_results_task}\")"
   ]
  },
  {
   "cell_type": "code",
   "execution_count": 5,
   "metadata": {},
   "outputs": [
    {
     "name": "stdout",
     "output_type": "stream",
     "text": [
      "[0 1]\n",
      "[2 3]\n",
      "[4 5]\n",
      "[6 7]\n",
      "[8 9]\n"
     ]
    }
   ],
   "source": [
    "# Each test loader only has images from specific task.\n",
    "for i in range(5):\n",
    "    print(numpy.unique(dataset_copy.test_loaders[i].dataset.targets))"
   ]
  },
  {
   "cell_type": "code",
   "execution_count": 6,
   "metadata": {},
   "outputs": [],
   "source": [
    "results, results_mask_classes = [], []\n",
    "#for t in range(dataset.N_TASKS):\n",
    "t = 0\n",
    "\n",
    "model.net.train()\n",
    "# This gathers the dataloaders and increases the dataset.i attribute by 2 \n",
    "train_loader, test_loader = dataset.get_data_loaders() \n",
    "\n",
    "if hasattr(model, 'begin_task'):\n",
    "    model.begin_task(dataset)\n"
   ]
  },
  {
   "cell_type": "code",
   "execution_count": 7,
   "metadata": {},
   "outputs": [],
   "source": [
    "scheduler = dataset.get_scheduler(model, args)"
   ]
  },
  {
   "cell_type": "code",
   "execution_count": 8,
   "metadata": {},
   "outputs": [],
   "source": [
    "# Note that: model.buffer.num_seen_examples/model.args.n_epochs is the same as len(train_loader.dataset)"
   ]
  },
  {
   "cell_type": "code",
   "execution_count": 9,
   "metadata": {},
   "outputs": [
    {
     "name": "stdout",
     "output_type": "stream",
     "text": [
      "The buffer is empty: True\n"
     ]
    }
   ],
   "source": [
    "# Checking that Buffer is initially empty\n",
    "print(f\"The buffer is empty: {model.buffer.is_empty()}\")"
   ]
  },
  {
   "cell_type": "markdown",
   "metadata": {},
   "source": [
    "#### Train initial model: distinguish 0s from 1s."
   ]
  },
  {
   "cell_type": "code",
   "execution_count": 10,
   "metadata": {},
   "outputs": [],
   "source": [
    "for epoch in range(1):\n",
    "\n",
    "    for i, data in enumerate(train_loader):\n",
    "\n",
    "        inputs, labels, not_aug_inputs, indexes = data # REMEMBER: Indexes are task-dependent!\n",
    "        inputs, labels = inputs.to(model.device), labels.to(model.device)\n",
    "        not_aug_inputs = not_aug_inputs.to(model.device)\n",
    "        loss = model.meta_observe(inputs, labels, not_aug_inputs, indexes)\n",
    "        \n",
    "    if scheduler is not None:\n",
    "        scheduler.step()"
   ]
  },
  {
   "cell_type": "code",
   "execution_count": 11,
   "metadata": {},
   "outputs": [
    {
     "name": "stdout",
     "output_type": "stream",
     "text": [
      "Results class: [[99.95271867612293]] \n",
      "Results task: [[99.95271867612293]]\n"
     ]
    }
   ],
   "source": [
    "accs = evaluate(model, dataset)\n",
    "results.append(accs[0])\n",
    "results_mask_classes.append(accs[1])\n",
    "print(f\"Results class: {results} \\nResults task: {results_mask_classes}\")"
   ]
  },
  {
   "cell_type": "markdown",
   "metadata": {},
   "source": [
    "Since I only trained with samples from one task, masking outputs from other tasks doesn't improve accuracy."
   ]
  },
  {
   "cell_type": "code",
   "execution_count": 12,
   "metadata": {},
   "outputs": [
    {
     "name": "stdout",
     "output_type": "stream",
     "text": [
      "1 space_per_class: [500. 500.   0.   0.   0.   0.   0.   0.   0.   0.]\n",
      "2 space_per_class: [0. 0. 0. 0. 0. 0. 0. 0. 0. 0.]\n"
     ]
    }
   ],
   "source": [
    "model.end_task(dataset)"
   ]
  },
  {
   "cell_type": "markdown",
   "metadata": {},
   "source": [
    "#### Populate Buffer with samples that had a positive dual variable."
   ]
  },
  {
   "cell_type": "code",
   "execution_count": 13,
   "metadata": {},
   "outputs": [],
   "source": [
    "lambdas = model.lambdas.detach().cpu().numpy()\n",
    "idxs_lambdas = (-lambdas).argsort()"
   ]
  },
  {
   "cell_type": "code",
   "execution_count": 14,
   "metadata": {},
   "outputs": [
    {
     "name": "stdout",
     "output_type": "stream",
     "text": [
      "Label = 0\n"
     ]
    },
    {
     "data": {
      "text/plain": [
       "<matplotlib.image.AxesImage at 0x7f33401d9150>"
      ]
     },
     "execution_count": 14,
     "metadata": {},
     "output_type": "execute_result"
    },
    {
     "data": {
      "image/png": "[encoded data removed]",
      "text/plain": [
       "<Figure size 640x480 with 1 Axes>"
      ]
     },
     "metadata": {},
     "output_type": "display_data"
    }
   ],
   "source": [
    "print(f\"Label = {train_loader.dataset[idxs_lambdas[0]][1]}\")\n",
    "plt.imshow(train_loader.dataset[idxs_lambdas[0]][0].squeeze())"
   ]
  },
  {
   "cell_type": "code",
   "execution_count": 15,
   "metadata": {},
   "outputs": [
    {
     "name": "stdout",
     "output_type": "stream",
     "text": [
      "Percentage of samples with dual variables equal to 0: 0.0\n",
      "Number of samples with non-zero dual variables: 12665\n"
     ]
    },
    {
     "data": {
      "image/png": "[encoded data removed]",
      "text/plain": [
       "<Figure size 640x480 with 1 Axes>"
      ]
     },
     "metadata": {},
     "output_type": "display_data"
    }
   ],
   "source": [
    "#thresh = 1e-30\n",
    "_ = plt.boxplot(lambdas)\n",
    "#_ = plt.hlines(thresh, xmin= 0, xmax =2, color = 'red')\n",
    "num_zero = numpy.sum(lambdas == 0 )\n",
    "print(f\"Percentage of samples with dual variables equal to 0: {num_zero*100/len(lambdas)}\")\n",
    "print(f\"Number of samples with non-zero dual variables: {len(lambdas)-num_zero}\")"
   ]
  },
  {
   "cell_type": "markdown",
   "metadata": {},
   "source": [
    "### Train on second task with populated buffer"
   ]
  },
  {
   "cell_type": "code",
   "execution_count": null,
   "metadata": {},
   "outputs": [],
   "source": []
  },
  {
   "cell_type": "code",
   "execution_count": 29,
   "metadata": {},
   "outputs": [],
   "source": [
    "model.net.train()\n",
    "# This gathers the dataloaders and increases the dataset.i attribute by 2 \n",
    "train_loader, test_loader = dataset.get_data_loaders() "
   ]
  },
  {
   "cell_type": "code",
   "execution_count": 30,
   "metadata": {},
   "outputs": [
    {
     "name": "stdout",
     "output_type": "stream",
     "text": [
      "The buffer is empty: False\n"
     ]
    }
   ],
   "source": [
    "if hasattr(model, 'begin_task'):\n",
    "    model.begin_task(dataset)\n",
    "\n",
    "scheduler = dataset.get_scheduler(model, args)\n",
    "# Checking that Buffer is not empty\n",
    "print(f\"The buffer is empty: {model.buffer.is_empty()}\")\n",
    "\n",
    "for epoch in range(1):\n",
    "\n",
    "    for i, data in enumerate(train_loader):\n",
    "\n",
    "        inputs, labels, not_aug_inputs, indexes = data # REMEMBER: Indexes are task-dependent!\n",
    "        inputs, labels = inputs.to(model.device), labels.to(model.device)\n",
    "        not_aug_inputs = not_aug_inputs.to(model.device)\n",
    "        loss = model.meta_observe(inputs, labels, not_aug_inputs, indexes)\n",
    "\n",
    "    if scheduler is not None:\n",
    "        scheduler.step()"
   ]
  },
  {
   "cell_type": "code",
   "execution_count": 31,
   "metadata": {},
   "outputs": [
    {
     "name": "stdout",
     "output_type": "stream",
     "text": [
      "Results class: [[99.95271867612293], [99.76359338061465, 88.93241919686582], [97.11583924349881, 91.42997061704212, 90.50160085378869], [95.46099290780143, 83.00685602350637, 95.67769477054429, 89.87915407854985]] \n",
      "Results task: [[99.95271867612293], [99.90543735224587, 96.5230166503428], [99.81087470449172, 95.73947110675807, 98.18569903948773], [99.8581560283688, 94.36826640548482, 98.77267876200641, 99.24471299093656]]\n"
     ]
    }
   ],
   "source": [
    "accs = evaluate(model, dataset)\n",
    "results.append(accs[0])\n",
    "results_mask_classes.append(accs[1])\n",
    "print(f\"Results class: {results} \\nResults task: {results_mask_classes}\")"
   ]
  },
  {
   "cell_type": "code",
   "execution_count": 32,
   "metadata": {},
   "outputs": [
    {
     "name": "stdout",
     "output_type": "stream",
     "text": [
      " 3 space_per_class: [  0.   0.   0.   0.   0.   0. 125. 125.   0.   0.]\n",
      " 4 space_per_class: [0. 0. 0. 0. 0. 0. 0. 0. 0. 0.]\n",
      " 5 space_per_class: [125. 125. 125. 125. 125. 125.   0.   0.   0.   0.]\n",
      " 6 space_per_class: [0. 0. 0. 0. 0. 0. 0. 0. 0. 0.]\n",
      "sizes: \n",
      "torch.Size([750, 28, 28]) 750\n"
     ]
    }
   ],
   "source": [
    "model.end_task(dataset)"
   ]
  },
  {
   "cell_type": "code",
   "execution_count": 28,
   "metadata": {},
   "outputs": [
    {
     "data": {
      "text/plain": [
       "996"
      ]
     },
     "execution_count": 28,
     "metadata": {},
     "output_type": "execute_result"
    }
   ],
   "source": [
    "model.buffer.num_seen_examples"
   ]
  },
  {
   "cell_type": "code",
   "execution_count": 20,
   "metadata": {},
   "outputs": [],
   "source": [
    "lambdas = model.lambdas.detach().cpu().numpy()\n",
    "buf_lambdas = model.buf_lambdas.detach().cpu().numpy()"
   ]
  },
  {
   "cell_type": "code",
   "execution_count": 21,
   "metadata": {},
   "outputs": [
    {
     "name": "stdout",
     "output_type": "stream",
     "text": [
      "Percentage of samples with dual variables equal to 0: 42.64207130449169\n",
      "Number of samples with non-zero dual variables: 6934\n"
     ]
    },
    {
     "data": {
      "image/png": "[encoded data removed]",
      "text/plain": [
       "<Figure size 640x480 with 1 Axes>"
      ]
     },
     "metadata": {},
     "output_type": "display_data"
    }
   ],
   "source": [
    "#thresh = 1e-30\n",
    "_ = plt.boxplot(lambdas)\n",
    "#_ = plt.hlines(thresh, xmin= 0, xmax =2, color = 'red')\n",
    "num_zero = numpy.sum(lambdas < 1 )\n",
    "print(f\"Percentage of samples with dual variables equal to 0: {num_zero*100/len(lambdas)}\")\n",
    "print(f\"Number of samples with non-zero dual variables: {len(lambdas)-num_zero}\")"
   ]
  },
  {
   "cell_type": "code",
   "execution_count": 22,
   "metadata": {},
   "outputs": [],
   "source": [
    "all_data = model.buffer.get_all_data()"
   ]
  },
  {
   "cell_type": "code",
   "execution_count": 23,
   "metadata": {},
   "outputs": [
    {
     "data": {
      "text/plain": [
       "torch.Size([1000, 28, 28])"
      ]
     },
     "execution_count": 23,
     "metadata": {},
     "output_type": "execute_result"
    }
   ],
   "source": [
    "all_data[0].shape"
   ]
  }
 ],
 "metadata": {
  "interpreter": {
   "hash": "194d212168aab97a2892b5ba39fd3beac5a450983bfa7de72578c280c21b58fd"
  },
  "kernelspec": {
   "display_name": "Python 3.10.8 ('cont': conda)",
   "language": "python",
   "name": "python3"
  },
  "language_info": {
   "codemirror_mode": {
    "name": "ipython",
    "version": 3
   },
   "file_extension": ".py",
   "mimetype": "text/x-python",
   "name": "python",
   "nbconvert_exporter": "python",
   "pygments_lexer": "ipython3",
   "version": "3.10.8"
  },
  "orig_nbformat": 4
 },
 "nbformat": 4,
 "nbformat_minor": 2
}
